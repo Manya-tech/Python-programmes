{
 "cells": [
  {
   "cell_type": "code",
   "execution_count": 4,
   "metadata": {},
   "outputs": [
    {
     "data": {
      "text/plain": [
       "2"
      ]
     },
     "execution_count": 4,
     "metadata": {},
     "output_type": "execute_result"
    }
   ],
   "source": [
    "5//2"
   ]
  },
  {
   "cell_type": "code",
   "execution_count": 5,
   "metadata": {},
   "outputs": [
    {
     "data": {
      "text/plain": [
       "'0b100'"
      ]
     },
     "execution_count": 5,
     "metadata": {},
     "output_type": "execute_result"
    }
   ],
   "source": [
    "bin(4)"
   ]
  },
  {
   "cell_type": "code",
   "execution_count": 6,
   "metadata": {},
   "outputs": [
    {
     "data": {
      "text/plain": [
       "'0o4'"
      ]
     },
     "execution_count": 6,
     "metadata": {},
     "output_type": "execute_result"
    }
   ],
   "source": [
    "oct(4)"
   ]
  },
  {
   "cell_type": "code",
   "execution_count": 7,
   "metadata": {},
   "outputs": [
    {
     "data": {
      "text/plain": [
       "'0x4'"
      ]
     },
     "execution_count": 7,
     "metadata": {},
     "output_type": "execute_result"
    }
   ],
   "source": [
    "hex(4)"
   ]
  },
  {
   "cell_type": "code",
   "execution_count": 8,
   "metadata": {},
   "outputs": [
    {
     "data": {
      "text/plain": [
       "1450289594704"
      ]
     },
     "execution_count": 8,
     "metadata": {},
     "output_type": "execute_result"
    }
   ],
   "source": [
    "a = 4\n",
    "id(a)  #address of variable"
   ]
  },
  {
   "cell_type": "code",
   "execution_count": 9,
   "metadata": {},
   "outputs": [
    {
     "data": {
      "text/plain": [
       "97"
      ]
     },
     "execution_count": 9,
     "metadata": {},
     "output_type": "execute_result"
    }
   ],
   "source": [
    "ord(\"a\")  #ascii value"
   ]
  },
  {
   "cell_type": "code",
   "execution_count": 12,
   "metadata": {},
   "outputs": [
    {
     "data": {
      "text/plain": [
       "(2, 1)"
      ]
     },
     "execution_count": 12,
     "metadata": {},
     "output_type": "execute_result"
    }
   ],
   "source": [
    "divmod(5,2)    # 5//2 , 5%2"
   ]
  },
  {
   "cell_type": "code",
   "execution_count": 13,
   "metadata": {},
   "outputs": [
    {
     "data": {
      "text/plain": [
       "3"
      ]
     },
     "execution_count": 13,
     "metadata": {},
     "output_type": "execute_result"
    }
   ],
   "source": [
    "len(\"hii\")"
   ]
  },
  {
   "cell_type": "code",
   "execution_count": 14,
   "metadata": {},
   "outputs": [
    {
     "data": {
      "text/plain": [
       "15"
      ]
     },
     "execution_count": 14,
     "metadata": {},
     "output_type": "execute_result"
    }
   ],
   "source": [
    "sum([1,2,3,4,5])"
   ]
  },
  {
   "cell_type": "code",
   "execution_count": 15,
   "metadata": {},
   "outputs": [
    {
     "name": "stdout",
     "output_type": "stream",
     "text": [
      "Help on built-in function print in module builtins:\n",
      "\n",
      "print(...)\n",
      "    print(value, ..., sep=' ', end='\\n', file=sys.stdout, flush=False)\n",
      "    \n",
      "    Prints the values to a stream, or to sys.stdout by default.\n",
      "    Optional keyword arguments:\n",
      "    file:  a file-like object (stream); defaults to the current sys.stdout.\n",
      "    sep:   string inserted between values, default a space.\n",
      "    end:   string appended after the last value, default a newline.\n",
      "    flush: whether to forcibly flush the stream.\n",
      "\n"
     ]
    }
   ],
   "source": [
    "help('print')"
   ]
  },
  {
   "cell_type": "code",
   "execution_count": 17,
   "metadata": {},
   "outputs": [
    {
     "name": "stdout",
     "output_type": "stream",
     "text": [
      "1 2 3 4 5\n",
      "3\n"
     ]
    }
   ],
   "source": [
    "print(1,2,3,4,5,sep=' ', end='\\n')\n",
    "print(3)"
   ]
  },
  {
   "cell_type": "code",
   "execution_count": 18,
   "metadata": {},
   "outputs": [
    {
     "name": "stdout",
     "output_type": "stream",
     "text": [
      "\n",
      "Please wait a moment while I gather a list of all available modules...\n",
      "\n"
     ]
    },
    {
     "name": "stderr",
     "output_type": "stream",
     "text": [
      "c:\\Users\\MANYA\\anaconda3\\lib\\site-packages\\tqdm\\auto.py:21: TqdmWarning: IProgress not found. Please update jupyter and ipywidgets. See https://ipywidgets.readthedocs.io/en/stable/user_install.html\n",
      "  from .autonotebook import tqdm as notebook_tqdm\n",
      "c:\\Users\\MANYA\\anaconda3\\lib\\site-packages\\caffe2\\__init__.py:5: UserWarning: Caffe2 support is not fully enabled in this PyTorch build. Please enable Caffe2 by building PyTorch from source with `BUILD_CAFFE2=1` flag.\n",
      "  warnings.warn(\"Caffe2 support is not fully enabled in this PyTorch build. \"\n",
      "c:\\Users\\MANYA\\anaconda3\\lib\\site-packages\\caffe2\\proto\\__init__.py:17: UserWarning: Caffe2 support is not enabled in this PyTorch build. Please enable Caffe2 by building PyTorch from source with `BUILD_CAFFE2=1` flag.\n",
      "  warnings.warn('Caffe2 support is not enabled in this PyTorch build. '\n",
      "c:\\Users\\MANYA\\anaconda3\\lib\\site-packages\\caffe2\\proto\\__init__.py:17: UserWarning: Caffe2 support is not enabled in this PyTorch build. Please enable Caffe2 by building PyTorch from source with `BUILD_CAFFE2=1` flag.\n",
      "  warnings.warn('Caffe2 support is not enabled in this PyTorch build. '\n",
      "c:\\Users\\MANYA\\anaconda3\\lib\\site-packages\\caffe2\\python\\__init__.py:9: UserWarning: Caffe2 support is not enabled in this PyTorch build. Please enable Caffe2 by building PyTorch from source with `BUILD_CAFFE2=1` flag.\n",
      "  warnings.warn('Caffe2 support is not enabled in this PyTorch build. '\n",
      "c:\\Users\\MANYA\\anaconda3\\lib\\site-packages\\nltk\\twitter\\__init__.py:20: UserWarning: The twython library has not been installed. Some functionality from the twitter package will not be available.\n",
      "c:\\Users\\MANYA\\anaconda3\\lib\\pkgutil.py:92: UserWarning: The numpy.array_api submodule is still experimental. See NEP 47.\n",
      "c:\\Users\\MANYA\\anaconda3\\lib\\site-packages\\_distutils_hack\\__init__.py:33: UserWarning: Setuptools is replacing distutils.\n",
      "NOTE: Redirects are currently not supported in Windows or MacOs.\n",
      "c:\\Users\\MANYA\\anaconda3\\lib\\pkgutil.py:107: VisibleDeprecationWarning:\n",
      "\n",
      "zmq.eventloop.minitornado is deprecated in pyzmq 14.0 and will be removed.\n",
      "    Install tornado itself to use zmq with the tornado IOLoop.\n",
      "    \n",
      "\n"
     ]
    },
    {
     "name": "stdout",
     "output_type": "stream",
     "text": [
      "Guessing-game       chunk               math                sre_compile\n",
      "IPython             click               matplotlib          sre_constants\n",
      "OpenSSL             cloudpickle         matplotlib_inline   sre_parse\n",
      "PIL                 clyent              menuinst            ssl\n",
      "PyQt5               cmath               mimetypes           sspi\n",
      "__future__          cmd                 mistune             sspicon\n",
      "_abc                code                mkl                 stack_data\n",
      "_aix_support        codecs              mkl_fft             stat\n",
      "_argon2_cffi_bindings codeop              mkl_random          statistics\n",
      "_ast                collections         mmap                string\n",
      "_asyncio            colorama            mmapfile            stringprep\n",
      "_bisect             colorsys            mmsystem            struct\n",
      "_blake2             colour              modulefinder        subprocess\n",
      "_bootsubprocess     comm                mpl_toolkits        sunau\n",
      "_bz2                commctrl            msilib              symtable\n",
      "_cffi_backend       compileall          msvcrt              sys\n",
      "_codecs             concurrent          multidict           sysconfig\n",
      "_codecs_cn          conda               multiprocessing     tabnanny\n",
      "_codecs_hk          conda_build         munkres             tarfile\n",
      "_codecs_iso2022     conda_content_trust navigator_updater   telnetlib\n",
      "_codecs_jp          conda_env           nbclassic           tempfile\n",
      "_codecs_kr          conda_pack          nbclient            tenacity\n",
      "_codecs_tw          conda_package_handling nbconvert           tensorboard\n",
      "_collections        conda_package_streaming nbformat            tensorboard_data_server\n",
      "_collections_abc    conda_token         nest_asyncio        tensorboard_plugin_wit\n",
      "_compat_pickle      conda_verify        netbios             tensorflow\n",
      "_compression        configparser        netrc               tensorflow_estimator\n",
      "_contextvars        contextlib          networkx            termcolor\n",
      "_csv                contextvars         nltk                terminado\n",
      "_ctypes             contourpy           nntplib             test\n",
      "_ctypes_test        copy                notebook            test_pycosat\n",
      "_datetime           copyreg             notebook_shim       testing\n",
      "_decimal            crypt               nt                  textwrap\n",
      "_distutils_hack     cryptography        ntpath              this\n",
      "_elementtree        csv                 ntsecuritycon       threading\n",
      "_functools          ctypes              nturl2path          threadpoolctl\n",
      "_geoslib            curses              numbers             tifffile\n",
      "_hashlib            cv2                 numpy               time\n",
      "_heapq              cwp                 oauthlib            timeit\n",
      "_imp                cycler              odbc                timer\n",
      "_io                 cytoolz             opcode              tinycss2\n",
      "_json               dask                openpyxl            tkinter\n",
      "_locale             dataclasses         operator            tlz\n",
      "_lsprof             datetime            opt_einsum          token\n",
      "_lzma               dateutil            optparse            tokenize\n",
      "_markupbase         dbi                 os                  toml\n",
      "_md5                dbm                 packaging           tomli\n",
      "_msi                dde                 pandas              toolz\n",
      "_multibytecodec     debugpy             pandas_datareader   torch\n",
      "_multiprocessing    decimal             pandocfilters       torchgen\n",
      "_nsis               decorator           parso               tornado\n",
      "_opcode             defusedxml          partd               tqdm\n",
      "_operator           difflib             past                trace\n",
      "_osx_support        dis                 pasta               traceback\n",
      "_overlapped         distutils           pathlib             tracemalloc\n",
      "_pickle             doctest             pdb                 traitlets\n",
      "_plotly_future_     dtreeviz            perfmon             tty\n",
      "_plotly_utils       email               pickle              turtle\n",
      "_py_abc             encodings           pickleshare         turtledemo\n",
      "_pydecimal          ensurepip           pickletools         types\n",
      "_pyio               entrypoints         pip                 typing\n",
      "_pyrsistent_version enum                pipes               typing_extensions\n",
      "_pytest             errno               pkg_resources       tzdata\n",
      "_queue              et_xmlfile          pkginfo             ujson\n",
      "_random             exceptiongroup      pkgutil             unicodedata\n",
      "_ruamel_yaml        executing           platform            unicodedata2\n",
      "_sha1               fastjsonschema      platformdirs        unittest\n",
      "_sha256             faulthandler        plistlib            urllib\n",
      "_sha3               filecmp             plotly              urllib3\n",
      "_sha512             fileinput           pluggy              uu\n",
      "_signal             filelock            ply                 uuid\n",
      "_sitebuiltins       flask               pooch               venv\n",
      "_socket             flatbuffers         poplib              warnings\n",
      "_sqlite3            fnmatch             posixpath           wave\n",
      "_sre                fontTools           pprint              wcwidth\n",
      "_ssl                fractions           profile             weakref\n",
      "_stat               frozenlist          prometheus_client   webbrowser\n",
      "_statistics         fsspec              prompt_toolkit      webencodings\n",
      "_string             ftplib              pstats              websocket\n",
      "_strptime           functools           psutil              werkzeug\n",
      "_struct             future              pty                 wheel\n",
      "_symtable           gast                pure_eval           win2kras\n",
      "_system_path        gc                  pvectorc            win32api\n",
      "_testbuffer         genericpath         py                  win32clipboard\n",
      "_testcapi           getopt              py_compile          win32com\n",
      "_testconsole        getpass             pyasn1              win32con\n",
      "_testimportmultiple gettext             pyasn1_modules      win32console\n",
      "_testinternalcapi   glob                pyclbr              win32cred\n",
      "_testmultiphase     glob2               pycosat             win32crypt\n",
      "_thread             google_auth_oauthlib pycparser           win32cryptcon\n",
      "_threading_local    graphlib            pydoc               win32event\n",
      "_tkinter            graphviz            pydoc_data          win32evtlog\n",
      "_tracemalloc        grpc                pyexpat             win32evtlogutil\n",
      "_uuid               gzip                pygments            win32file\n",
      "_warnings           h5py                pylab               win32gui\n",
      "_weakref            hashlib             pyparsing           win32gui_struct\n",
      "_weakrefset         heapq               pyproj              win32help\n",
      "_win32sysloader     hmac                pyrsistent          win32inet\n",
      "_winapi             html                pytest              win32inetcon\n",
      "_winxptheme         http                python_version      win32job\n",
      "_xxsubinterpreters  idlelib             pythoncom           win32lz\n",
      "_yaml               idna                pytz                win32net\n",
      "_zoneinfo           imagecodecs         pywin               win32netcon\n",
      "abc                 imageio             pywin32_bootstrap   win32pdh\n",
      "absl                imaplib             pywin32_testutil    win32pdhquery\n",
      "adodbapi            imghdr              pywintypes          win32pdhutil\n",
      "afxres              imp                 pywt                win32pipe\n",
      "aifc                importlib           qtpy                win32print\n",
      "aiohttp             importlib_metadata  queue               win32process\n",
      "aiosignal           iniconfig           quopri              win32profile\n",
      "anaconda_navigator  inspect             random              win32ras\n",
      "anaconda_project    io                  rasutil             win32rcparser\n",
      "antigravity         ipaddress           re                  win32security\n",
      "anyio               ipykernel           regcheck            win32service\n",
      "appdirs             ipykernel_launcher  regex               win32serviceutil\n",
      "argon2              ipython_genutils    regutil             win32timezone\n",
      "argparse            isapi               repo_cli            win32trace\n",
      "array               itertools           reprlib             win32traceutil\n",
      "ast                 itsdangerous        requests            win32transaction\n",
      "asttokens           jedi                requests_oauthlib   win32ts\n",
      "astunparse          jinja2              requests_toolbelt   win32ui\n",
      "async_timeout       joblib              rlcompleter         win32uiole\n",
      "asynchat            json                rsa                 win32verstamp\n",
      "asyncio             jsonpatch           ruamel_yaml         win32wnet\n",
      "asyncore            jsonpointer         runpy               win_inet_pton\n",
      "atexit              jsonschema          sched               winerror\n",
      "attr                jupyter             scipy               winioctlcon\n",
      "attrs               jupyter_client      seaborn             winnt\n",
      "audioop             jupyter_core        secrets             winperf\n",
      "backcall            jupyter_server      select              winpty\n",
      "backports           jupyterlab_plotly   selectors           winreg\n",
      "base64              jupyterlab_pygments send2trash          winsound\n",
      "bdb                 jwt                 servicemanager      winxpgui\n",
      "binascii            keras               setuptools          winxptheme\n",
      "binhex              keras_preprocessing shapefile           wordcloud\n",
      "binstar_client      keyword             shelve              wrapt\n",
      "bisect              kiwisolver          shlex               wsgiref\n",
      "bleach              lazy_loader         shutil              xdrlib\n",
      "blinker             lib2to3             signal              xml\n",
      "boltons             libarchive          sipbuild            xmlrpc\n",
      "brotli              libfuturize         site                xxlimited\n",
      "bs4                 libpasteurize       six                 xxlimited_35\n",
      "builtins            lief                skimage             xxsubtype\n",
      "bz2                 linecache           sklearn             yaml\n",
      "cProfile            locale              smtpd               yarl\n",
      "cachetools          locket              smtplib             zipapp\n",
      "caffe2              logging             sndhdr              zipfile\n",
      "calendar            lxml                sniffio             zipimport\n",
      "certifi             lzma                socket              zipp\n",
      "cffi                mailbox             socketserver        zlib\n",
      "cgi                 mailcap             socks               zmq\n",
      "cgitb               markdown            sockshandler        zoneinfo\n",
      "chardet             markupsafe          soupsieve           zstandard\n",
      "charset_normalizer  marshal             sqlite3             \n",
      "\n",
      "Enter any module name to get more help.  Or, type \"modules spam\" to search\n",
      "for modules whose name or summary contain the string \"spam\".\n",
      "\n"
     ]
    }
   ],
   "source": [
    "help('modules')"
   ]
  },
  {
   "cell_type": "code",
   "execution_count": 19,
   "metadata": {},
   "outputs": [],
   "source": [
    "import math"
   ]
  },
  {
   "cell_type": "code",
   "execution_count": 20,
   "metadata": {},
   "outputs": [
    {
     "data": {
      "text/plain": [
       "720"
      ]
     },
     "execution_count": 20,
     "metadata": {},
     "output_type": "execute_result"
    }
   ],
   "source": [
    "math.factorial(6)"
   ]
  },
  {
   "cell_type": "code",
   "execution_count": 24,
   "metadata": {},
   "outputs": [],
   "source": [
    "import random\n",
    "a = [1,2,3,4,5]"
   ]
  },
  {
   "cell_type": "code",
   "execution_count": 25,
   "metadata": {},
   "outputs": [
    {
     "data": {
      "text/plain": [
       "[1, 3, 5, 4, 2]"
      ]
     },
     "execution_count": 25,
     "metadata": {},
     "output_type": "execute_result"
    }
   ],
   "source": [
    "random.shuffle(a)\n",
    "a"
   ]
  },
  {
   "cell_type": "code",
   "execution_count": 26,
   "metadata": {},
   "outputs": [],
   "source": [
    "import time"
   ]
  },
  {
   "cell_type": "code",
   "execution_count": 27,
   "metadata": {},
   "outputs": [
    {
     "data": {
      "text/plain": [
       "1691550478.732567"
      ]
     },
     "execution_count": 27,
     "metadata": {},
     "output_type": "execute_result"
    }
   ],
   "source": [
    "time.time()"
   ]
  },
  {
   "cell_type": "code",
   "execution_count": 28,
   "metadata": {},
   "outputs": [
    {
     "data": {
      "text/plain": [
       "1691550483.7009656"
      ]
     },
     "execution_count": 28,
     "metadata": {},
     "output_type": "execute_result"
    }
   ],
   "source": [
    "time.time()"
   ]
  },
  {
   "cell_type": "code",
   "execution_count": 29,
   "metadata": {},
   "outputs": [
    {
     "data": {
      "text/plain": [
       "'Wed Aug  9 08:38:32 2023'"
      ]
     },
     "execution_count": 29,
     "metadata": {},
     "output_type": "execute_result"
    }
   ],
   "source": [
    "time.ctime()"
   ]
  },
  {
   "cell_type": "code",
   "execution_count": 30,
   "metadata": {},
   "outputs": [
    {
     "name": "stdout",
     "output_type": "stream",
     "text": [
      "4\n",
      "8\n"
     ]
    }
   ],
   "source": [
    "print(4)\n",
    "time.sleep(1)\n",
    "print(8)"
   ]
  },
  {
   "cell_type": "code",
   "execution_count": 31,
   "metadata": {},
   "outputs": [
    {
     "data": {
      "text/plain": [
       "'c:\\\\Users\\\\MANYA\\\\OneDrive\\\\Desktop\\\\Python-programmes'"
      ]
     },
     "execution_count": 31,
     "metadata": {},
     "output_type": "execute_result"
    }
   ],
   "source": [
    "import os\n",
    "os.getcwd()"
   ]
  },
  {
   "cell_type": "code",
   "execution_count": 32,
   "metadata": {},
   "outputs": [
    {
     "data": {
      "text/plain": [
       "['StopWords_Auditor.txt',\n",
       " 'StopWords_Currencies.txt',\n",
       " 'StopWords_DatesandNumbers.txt',\n",
       " 'StopWords_Generic.txt',\n",
       " 'StopWords_GenericLong.txt',\n",
       " 'StopWords_Geographic.txt',\n",
       " 'StopWords_Names.txt']"
      ]
     },
     "execution_count": 32,
     "metadata": {},
     "output_type": "execute_result"
    }
   ],
   "source": [
    "stopwords_dir=\"C:/Users/MANYA/OneDrive/Desktop/blackcoffer/stopwords\"\n",
    "os.listdir(stopwords_dir)"
   ]
  },
  {
   "cell_type": "code",
   "execution_count": 33,
   "metadata": {},
   "outputs": [
    {
     "data": {
      "text/plain": [
       "['Guessing-game.py', 'test.ipynb']"
      ]
     },
     "execution_count": 33,
     "metadata": {},
     "output_type": "execute_result"
    }
   ],
   "source": [
    "os.listdir()"
   ]
  },
  {
   "cell_type": "code",
   "execution_count": null,
   "metadata": {},
   "outputs": [],
   "source": []
  }
 ],
 "metadata": {
  "kernelspec": {
   "display_name": "base",
   "language": "python",
   "name": "python3"
  },
  "language_info": {
   "codemirror_mode": {
    "name": "ipython",
    "version": 3
   },
   "file_extension": ".py",
   "mimetype": "text/x-python",
   "name": "python",
   "nbconvert_exporter": "python",
   "pygments_lexer": "ipython3",
   "version": "3.10.11"
  },
  "orig_nbformat": 4
 },
 "nbformat": 4,
 "nbformat_minor": 2
}
