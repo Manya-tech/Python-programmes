{
 "cells": [
  {
   "cell_type": "code",
   "execution_count": 3,
   "metadata": {},
   "outputs": [
    {
     "name": "stdout",
     "output_type": "stream",
     "text": [
      "HELLO\n",
      "<class 'function'>\n",
      "HELLO\n"
     ]
    }
   ],
   "source": [
    "# Python program to illustrate functions\n",
    "# can be treated as objects\n",
    "\n",
    "def shout(text):\n",
    "    return text.upper()\n",
    "\n",
    "print(shout('hello'))\n",
    "\n",
    "yell = shout\n",
    "print(type(yell))\n",
    "\n",
    "print(yell('hello'))"
   ]
  },
  {
   "cell_type": "code",
   "execution_count": 2,
   "metadata": {},
   "outputs": [
    {
     "name": "stdout",
     "output_type": "stream",
     "text": [
      "HII. HOW ARE YOU?\n",
      "hii. how are you?\n"
     ]
    }
   ],
   "source": [
    "\n",
    "# Python program to illustrate functions\n",
    "# can be passed as arguments to other functions\n",
    "\n",
    "def shout(text):\n",
    "    return text.upper()\n",
    "\n",
    "def whisper(text):\n",
    "    return text.lower()\n",
    "\n",
    "def greet(func):\n",
    "\n",
    "    greeting = func(\"hii. how are you?\")\n",
    "\n",
    "    print(greeting)\n",
    "\n",
    "greet(shout)\n",
    "greet(whisper)\n",
    "\n"
   ]
  },
  {
   "cell_type": "markdown",
   "metadata": {},
   "source": [
    "# Decorators\n",
    "\n",
    "Python decorators are a powerful and versatile tool that allow you to modify the behavior of functions and methods. They are a way to extend the functionality of a function or method without modifying its source code.\n",
    "\n",
    "A decorator is a function that takes another function as an argument and returns a new function that modifies the behavior of the original function. The new function is often referred to as a \"decorated\" function. The basic syntax for using a decorator is the following:"
   ]
  },
  {
   "cell_type": "code",
   "execution_count": null,
   "metadata": {},
   "outputs": [],
   "source": [
    "@decorator_function\n",
    "def my_function():\n",
    "    pass"
   ]
  },
  {
   "cell_type": "markdown",
   "metadata": {},
   "source": [
    "The @decorator_function notation is just a shorthand for the following code:"
   ]
  },
  {
   "cell_type": "code",
   "execution_count": null,
   "metadata": {},
   "outputs": [],
   "source": [
    "def my_function():\n",
    "    pass\n",
    "my_function = decorator_function(my_function)"
   ]
  },
  {
   "cell_type": "markdown",
   "metadata": {},
   "source": [
    "Decorators are often used to add functionality to functions and methods, such as logging, memoization, and access control."
   ]
  },
  {
   "cell_type": "code",
   "execution_count": 7,
   "metadata": {},
   "outputs": [
    {
     "name": "stdout",
     "output_type": "stream",
     "text": [
      "Good morning\n",
      "Hello world\n",
      "Thanks for using me\n"
     ]
    }
   ],
   "source": [
    "def greet(fx):\n",
    "\n",
    "    def mfx():\n",
    "        print(\"Good morning\")\n",
    "        fx()\n",
    "        print(\"Thanks for using me\")\n",
    "    return mfx\n",
    "\n",
    "@greet\n",
    "def hello():\n",
    "    print(\"Hello world\")\n",
    "\n",
    "hello()"
   ]
  },
  {
   "cell_type": "code",
   "execution_count": 13,
   "metadata": {},
   "outputs": [
    {
     "data": {
      "text/plain": [
       "function"
      ]
     },
     "execution_count": 13,
     "metadata": {},
     "output_type": "execute_result"
    }
   ],
   "source": [
    "hello = greet(hello)\n",
    "type(hello)"
   ]
  },
  {
   "cell_type": "code",
   "execution_count": 11,
   "metadata": {},
   "outputs": [
    {
     "name": "stdout",
     "output_type": "stream",
     "text": [
      "Good morning\n",
      "Good morning\n",
      "Hello world\n",
      "Thanks for using me\n",
      "Thanks for using me\n"
     ]
    }
   ],
   "source": [
    "hello()"
   ]
  },
  {
   "cell_type": "code",
   "execution_count": 12,
   "metadata": {},
   "outputs": [
    {
     "name": "stdout",
     "output_type": "stream",
     "text": [
      "Good morning\n",
      "Good morning\n",
      "Good morning\n",
      "Hello world\n",
      "Thanks for using me\n",
      "Thanks for using me\n",
      "Thanks for using me\n"
     ]
    }
   ],
   "source": [
    "greet(hello)()"
   ]
  },
  {
   "cell_type": "code",
   "execution_count": 17,
   "metadata": {},
   "outputs": [],
   "source": [
    "def greet(fx):\n",
    "\n",
    "    def mfx(*args,**kwargs):\n",
    "        print(\"Hello\")\n",
    "        fx(*args,**kwargs)\n",
    "        print(\"bye\")\n",
    "\n",
    "    return mfx"
   ]
  },
  {
   "cell_type": "code",
   "execution_count": 18,
   "metadata": {},
   "outputs": [],
   "source": [
    "@greet\n",
    "def add(a,b):\n",
    "    print(a+b)\n",
    "\n"
   ]
  },
  {
   "cell_type": "code",
   "execution_count": 19,
   "metadata": {},
   "outputs": [
    {
     "name": "stdout",
     "output_type": "stream",
     "text": [
      "Hello\n",
      "4\n",
      "bye\n"
     ]
    }
   ],
   "source": [
    "add(1,3)"
   ]
  },
  {
   "cell_type": "markdown",
   "metadata": {},
   "source": [
    "# Practical use case\n",
    "One common use of decorators is to add logging to a function. For example, you could use a decorator to log the arguments and return value of a function each time it is called:"
   ]
  },
  {
   "cell_type": "code",
   "execution_count": 22,
   "metadata": {},
   "outputs": [
    {
     "data": {
      "text/plain": [
       "3"
      ]
     },
     "execution_count": 22,
     "metadata": {},
     "output_type": "execute_result"
    }
   ],
   "source": [
    "import logging\n",
    "def log_function_call(func):\n",
    "    def decorated(*args, **kwargs):\n",
    "        logging.info(f\"Calling {func.__name__} with args={args}, kwargs={kwargs}\")\n",
    "        result = func(*args, **kwargs)\n",
    "        logging.info(f\"{func.__name__} returned {result}\")\n",
    "        return result\n",
    "    return decorated\n",
    "\n",
    "@log_function_call\n",
    "def my_function(a, b):\n",
    "    return a + b\n",
    "my_function(1,2)"
   ]
  },
  {
   "cell_type": "markdown",
   "metadata": {},
   "source": [
    "In this example, the log_function_call decorator takes a function as an argument and returns a new function that logs the function call before and after the original function is called.\n",
    "\n",
    "# Conclusion\n",
    "Decorators are a powerful and flexible feature in Python that can be used to add functionality to functions and methods without modifying their source code. They are a great tool for separating concerns, reducing code duplication, and making your code more readable and maintainable.\n",
    "\n",
    "In conclusion, python decorators are a way to extend the functionality of functions and methods, by modifying its behavior without modifying the source code. They are used for a variety of purposes, such as logging, memoization, access control, and more. They are a powerful tool that can be used to make your code more readable, maintainable, and extendable."
   ]
  }
 ],
 "metadata": {
  "kernelspec": {
   "display_name": "base",
   "language": "python",
   "name": "python3"
  },
  "language_info": {
   "codemirror_mode": {
    "name": "ipython",
    "version": 3
   },
   "file_extension": ".py",
   "mimetype": "text/x-python",
   "name": "python",
   "nbconvert_exporter": "python",
   "pygments_lexer": "ipython3",
   "version": "3.10.11"
  },
  "orig_nbformat": 4
 },
 "nbformat": 4,
 "nbformat_minor": 2
}
